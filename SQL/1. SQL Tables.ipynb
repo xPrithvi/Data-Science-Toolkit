{
 "cells": [
  {
   "cell_type": "markdown",
   "id": "c701220e",
   "metadata": {},
   "source": [
    "# 1. SQL Tables"
   ]
  },
  {
   "cell_type": "markdown",
   "id": "28468b70",
   "metadata": {},
   "source": [
    "This information contains information on creating, renaming, deleting, copying, etc. tables using SQL. As usual, we connect to our database via,"
   ]
  },
  {
   "cell_type": "code",
   "execution_count": 1,
   "id": "f2a144db",
   "metadata": {},
   "outputs": [],
   "source": [
    "# Using prettytable to display tables,\n",
    "import prettytable\n",
    "\n",
    "# Creating connection,\n",
    "%load_ext sql\n",
    "%sql sqlite:///database.db"
   ]
  },
  {
   "cell_type": "markdown",
   "id": "bd0ac379",
   "metadata": {},
   "source": [
    "### 1.1 Creating Tables\n",
    "\n",
    "A table in RDBMS is a combination of rows and columns. To create a table we use the **CREATE TABLE** command followed by the table name and the details of each field contained within brackets _()_. Each field is given in a list with the details in the format of the field name followed by the data type (**INT**, **FLOAT**, **BLOOLEAN**, **CHAR**, ect.). Let us now create a table to contain customer details,"
   ]
  },
  {
   "cell_type": "code",
   "execution_count": 3,
   "id": "cad2f66d",
   "metadata": {
    "vscode": {
     "languageId": "sql"
    }
   },
   "outputs": [
    {
     "name": "stdout",
     "output_type": "stream",
     "text": [
      " * sqlite:///database.db\n",
      "Done.\n"
     ]
    },
    {
     "data": {
      "text/plain": [
       "[]"
      ]
     },
     "execution_count": 3,
     "metadata": {},
     "output_type": "execute_result"
    }
   ],
   "source": [
    "%%sql\n",
    "CREATE TABLE Customers (\n",
    "\tFirstName VARCHAR(32),\n",
    "    LastName VARCHAR(32),\n",
    "    Age INT,\n",
    "    Customer_ID CHAR(16) PRIMARY KEY\n",
    ");"
   ]
  },
  {
   "cell_type": "markdown",
   "id": "f90f597e",
   "metadata": {},
   "source": [
    "For the name fields, we have used the **VARCHAR** data type which allows to limit the number of characters in our string (up to 32 in our case). So far, this is the bare-bones code for creating a table and there are the additional considerations below:\n",
    "\n",
    "- **Field Contraints**: We may set constraints for the field data. For example, we many want some fields to be required. That is, we do not want them to be **NULL** or empty. In this case, we add the *NOT NULL* contraint to the field.  \n",
    "- **Primary Key Assignment**: It is common to want to use a particular field as an ID so we have a way to identify or keep track of certain rows. For this purpose we assign a field to be the primay key. Primary key fields must contain no duplicates and **NULL** (empty) values.\n",
    "- **ERROR 1050**: Often a table may or may not exist. To avoid encountering the error code: _ERROR 1050: Table 'table_name' already exists_, we use the command **CREATE TABLE IF NOT EXISTS** with the additional condition.\n",
    "\n",
    "With this in mind, we have,"
   ]
  },
  {
   "cell_type": "code",
   "execution_count": 7,
   "id": "0a9f4fa1",
   "metadata": {
    "vscode": {
     "languageId": "sql"
    }
   },
   "outputs": [
    {
     "name": "stdout",
     "output_type": "stream",
     "text": [
      " * sqlite:///database.db\n",
      "Done.\n"
     ]
    },
    {
     "data": {
      "text/plain": [
       "[]"
      ]
     },
     "execution_count": 7,
     "metadata": {},
     "output_type": "execute_result"
    }
   ],
   "source": [
    "%%sql\n",
    "CREATE TABLE IF NOT EXISTS Customers (\n",
    "\tFirstName VARCHAR(32) NOT NULL,\n",
    "    LastName VARCHAR(32),\n",
    "    Age INT,\n",
    "    Customer_ID CHAR(16) NOT NULL,\n",
    "    PRIMARY KEY (Customer_ID)\n",
    ");"
   ]
  },
  {
   "cell_type": "markdown",
   "id": "390febec",
   "metadata": {},
   "source": [
    "We can verify that we have created the table by using the **PRAGMA** command with the _table_info()_ method. This is specific to SQLite, for example, the **DESC** command in \"DESC Customers;\" can simply be used in mySQL. "
   ]
  },
  {
   "cell_type": "code",
   "execution_count": 5,
   "id": "8ed445a9",
   "metadata": {
    "vscode": {
     "languageId": "sql"
    }
   },
   "outputs": [
    {
     "name": "stdout",
     "output_type": "stream",
     "text": [
      " * sqlite:///database.db\n",
      "Done.\n"
     ]
    },
    {
     "data": {
      "text/html": [
       "<table>\n",
       "    <thead>\n",
       "        <tr>\n",
       "            <th>cid</th>\n",
       "            <th>name</th>\n",
       "            <th>type</th>\n",
       "            <th>notnull</th>\n",
       "            <th>dflt_value</th>\n",
       "            <th>pk</th>\n",
       "        </tr>\n",
       "    </thead>\n",
       "    <tbody>\n",
       "        <tr>\n",
       "            <td>0</td>\n",
       "            <td>FirstName</td>\n",
       "            <td>VARCHAR(32)</td>\n",
       "            <td>0</td>\n",
       "            <td>None</td>\n",
       "            <td>0</td>\n",
       "        </tr>\n",
       "        <tr>\n",
       "            <td>1</td>\n",
       "            <td>LastName</td>\n",
       "            <td>VARCHAR(32)</td>\n",
       "            <td>0</td>\n",
       "            <td>None</td>\n",
       "            <td>0</td>\n",
       "        </tr>\n",
       "        <tr>\n",
       "            <td>2</td>\n",
       "            <td>Age</td>\n",
       "            <td>INT</td>\n",
       "            <td>0</td>\n",
       "            <td>None</td>\n",
       "            <td>0</td>\n",
       "        </tr>\n",
       "        <tr>\n",
       "            <td>3</td>\n",
       "            <td>Customer_ID</td>\n",
       "            <td>CHAR(16)</td>\n",
       "            <td>0</td>\n",
       "            <td>None</td>\n",
       "            <td>1</td>\n",
       "        </tr>\n",
       "    </tbody>\n",
       "</table>"
      ],
      "text/plain": [
       "[(0, 'FirstName', 'VARCHAR(32)', 0, None, 0),\n",
       " (1, 'LastName', 'VARCHAR(32)', 0, None, 0),\n",
       " (2, 'Age', 'INT', 0, None, 0),\n",
       " (3, 'Customer_ID', 'CHAR(16)', 0, None, 1)]"
      ]
     },
     "execution_count": 5,
     "metadata": {},
     "output_type": "execute_result"
    }
   ],
   "source": [
    "%%sql\n",
    "PRAGMA table_info(Customers);"
   ]
  },
  {
   "cell_type": "markdown",
   "id": "b8fa8511",
   "metadata": {},
   "source": [
    "### 1.2 Show Tables\n",
    "\n",
    "\n",
    "There are several instances when you may to need to retrieve a list of tables from your database. This could be done for testing purposes, to identify any existing tables before adding or removing any, or for any other reason. Each database architecture has their own metadata base scheme which stores information about the tables in a database. For **SQLite**, this metadata is store in the master table which is called \"sqlite_master\". Below, we select all entries from sqlite_master,"
   ]
  },
  {
   "cell_type": "code",
   "execution_count": 6,
   "id": "f512b9c6",
   "metadata": {
    "vscode": {
     "languageId": "sql"
    }
   },
   "outputs": [
    {
     "name": "stdout",
     "output_type": "stream",
     "text": [
      " * sqlite:///database.db\n",
      "Done.\n"
     ]
    },
    {
     "data": {
      "text/html": [
       "<table>\n",
       "    <thead>\n",
       "        <tr>\n",
       "            <th>type</th>\n",
       "            <th>name</th>\n",
       "            <th>tbl_name</th>\n",
       "            <th>rootpage</th>\n",
       "            <th>sql</th>\n",
       "        </tr>\n",
       "    </thead>\n",
       "    <tbody>\n",
       "        <tr>\n",
       "            <td>table</td>\n",
       "            <td>Customers_copy1</td>\n",
       "            <td>Customers_copy1</td>\n",
       "            <td>2</td>\n",
       "            <td>CREATE TABLE Customers_copy1(<br>  FirstName TEXT,<br>  LastName TEXT,<br>  Age INT,<br>  Customer_ID TEXT<br>)</td>\n",
       "        </tr>\n",
       "        <tr>\n",
       "            <td>table</td>\n",
       "            <td>Customers_copy2</td>\n",
       "            <td>Customers_copy2</td>\n",
       "            <td>5</td>\n",
       "            <td>CREATE TABLE Customers_copy2(<br>  FirstName TEXT,<br>  LastName TEXT,<br>  Age INT,<br>  Customer_ID TEXT<br>)</td>\n",
       "        </tr>\n",
       "        <tr>\n",
       "            <td>table</td>\n",
       "            <td>Customers_copy3</td>\n",
       "            <td>Customers_copy3</td>\n",
       "            <td>6</td>\n",
       "            <td>CREATE TABLE Customers_copy3 (<br>    FirstName VARCHAR(32) NOT NULL,<br>    LastName VARCHAR(32),<br>    Age INT,<br>    Customer_ID CHAR(16) NOT NULL,<br>    PRIMARY KEY (Customer_ID)<br>)</td>\n",
       "        </tr>\n",
       "        <tr>\n",
       "            <td>index</td>\n",
       "            <td>sqlite_autoindex_Customers_copy3_1</td>\n",
       "            <td>Customers_copy3</td>\n",
       "            <td>7</td>\n",
       "            <td>None</td>\n",
       "        </tr>\n",
       "        <tr>\n",
       "            <td>table</td>\n",
       "            <td>old_customer_data</td>\n",
       "            <td>old_customer_data</td>\n",
       "            <td>10</td>\n",
       "            <td>CREATE TABLE old_customer_data (<br>    ID PRIMARY KEY,<br>    FirstName VARCHAR(32) NOT NULL, <br>    LastName VARCHAR(32) NOT NULL,<br>    Age INT,<br>    Sex TEXT CHECK(Sex IN (&quot;male&quot;, &quot;female&quot;)),<br>    Package TEXT CHECK(Package IN (&quot;Basic&quot;, &quot;Standard&quot;, &quot;Premium&quot;)) NOT NULL<br>)</td>\n",
       "        </tr>\n",
       "        <tr>\n",
       "            <td>index</td>\n",
       "            <td>sqlite_autoindex_old_customer_data_1</td>\n",
       "            <td>old_customer_data</td>\n",
       "            <td>11</td>\n",
       "            <td>None</td>\n",
       "        </tr>\n",
       "        <tr>\n",
       "            <td>table</td>\n",
       "            <td>customer_data</td>\n",
       "            <td>customer_data</td>\n",
       "            <td>8</td>\n",
       "            <td>CREATE TABLE customer_data (<br>    ID INTEGER PRIMARY KEY AUTOINCREMENT,<br>    FirstName VARCHAR(32) NOT NULL,<br>    LastName VARCHAR (32) NOT NULL,<br>    Age INT,<br>    Sex TEXT CHECK(Sex IN (&quot;male&quot;, &quot;female&quot;)),<br>    Package TEXT CHECK(Package IN (&quot;Basic&quot;, &quot;Standard&quot;, &quot;Premium&quot;)) NOT NULL<br>)</td>\n",
       "        </tr>\n",
       "        <tr>\n",
       "            <td>table</td>\n",
       "            <td>sqlite_sequence</td>\n",
       "            <td>sqlite_sequence</td>\n",
       "            <td>9</td>\n",
       "            <td>CREATE TABLE sqlite_sequence(name,seq)</td>\n",
       "        </tr>\n",
       "        <tr>\n",
       "            <td>table</td>\n",
       "            <td>customer_data_premium</td>\n",
       "            <td>customer_data_premium</td>\n",
       "            <td>12</td>\n",
       "            <td>CREATE TABLE customer_data_premium(<br>  ID INT,<br>  FirstName TEXT,<br>  LastName TEXT,<br>  Age INT,<br>  Sex TEXT,<br>  Package TEXT<br>)</td>\n",
       "        </tr>\n",
       "        <tr>\n",
       "            <td>table</td>\n",
       "            <td>purchases</td>\n",
       "            <td>purchases</td>\n",
       "            <td>13</td>\n",
       "            <td>CREATE TABLE purchases (<br>    TRANS_ID INT NOT NULL,<br>    CUSTOMER_ID INT NOT NULL,<br>    ProductName VARCHAR(32) NOT NULL,<br>    Brand VARCHAR(32),<br>    Quantity INT NOT NULL<br>)</td>\n",
       "        </tr>\n",
       "        <tr>\n",
       "            <td>table</td>\n",
       "            <td>Customers</td>\n",
       "            <td>Customers</td>\n",
       "            <td>3</td>\n",
       "            <td>CREATE TABLE Customers (<br>\tFirstName VARCHAR(32),<br>    LastName VARCHAR(32),<br>    Age INT,<br>    Customer_ID CHAR(16) PRIMARY KEY<br>)</td>\n",
       "        </tr>\n",
       "        <tr>\n",
       "            <td>index</td>\n",
       "            <td>sqlite_autoindex_Customers_1</td>\n",
       "            <td>Customers</td>\n",
       "            <td>4</td>\n",
       "            <td>None</td>\n",
       "        </tr>\n",
       "    </tbody>\n",
       "</table>"
      ],
      "text/plain": [
       "[('table', 'Customers_copy1', 'Customers_copy1', 2, 'CREATE TABLE Customers_copy1(\\n  FirstName TEXT,\\n  LastName TEXT,\\n  Age INT,\\n  Customer_ID TEXT\\n)'),\n",
       " ('table', 'Customers_copy2', 'Customers_copy2', 5, 'CREATE TABLE Customers_copy2(\\n  FirstName TEXT,\\n  LastName TEXT,\\n  Age INT,\\n  Customer_ID TEXT\\n)'),\n",
       " ('table', 'Customers_copy3', 'Customers_copy3', 6, 'CREATE TABLE Customers_copy3 (\\n    FirstName VARCHAR(32) NOT NULL,\\n    LastName VARCHAR(32),\\n    Age INT,\\n    Customer_ID CHAR(16) NOT NULL,\\n    PRIMARY KEY (Customer_ID)\\n)'),\n",
       " ('index', 'sqlite_autoindex_Customers_copy3_1', 'Customers_copy3', 7, None),\n",
       " ('table', 'old_customer_data', 'old_customer_data', 10, 'CREATE TABLE old_customer_data (\\n    ID PRIMARY KEY,\\n    FirstName VARCHAR(32) NOT NULL, \\n    LastName VARCHAR(32) NOT NULL,\\n    Age INT,\\n    Sex TEXT CHECK(Sex IN (\"male\", \"female\")),\\n    Package TEXT CHECK(Package IN (\"Basic\", \"Standard\", \"Premium\")) NOT NULL\\n)'),\n",
       " ('index', 'sqlite_autoindex_old_customer_data_1', 'old_customer_data', 11, None),\n",
       " ('table', 'customer_data', 'customer_data', 8, 'CREATE TABLE customer_data (\\n    ID INTEGER PRIMARY KEY AUTOINCREMENT,\\n    FirstName VARCHAR(32) NOT NULL,\\n    LastName VARCHAR (32) NOT NULL,\\n    Age INT,\\n    Sex TEXT CHECK(Sex IN (\"male\", \"female\")),\\n    Package TEXT CHECK(Package IN (\"Basic\", \"Standard\", \"Premium\")) NOT NULL\\n)'),\n",
       " ('table', 'sqlite_sequence', 'sqlite_sequence', 9, 'CREATE TABLE sqlite_sequence(name,seq)'),\n",
       " ('table', 'customer_data_premium', 'customer_data_premium', 12, 'CREATE TABLE customer_data_premium(\\n  ID INT,\\n  FirstName TEXT,\\n  LastName TEXT,\\n  Age INT,\\n  Sex TEXT,\\n  Package TEXT\\n)'),\n",
       " ('table', 'purchases', 'purchases', 13, 'CREATE TABLE purchases (\\n    TRANS_ID INT NOT NULL,\\n    CUSTOMER_ID INT NOT NULL,\\n    ProductName VARCHAR(32) NOT NULL,\\n    Brand VARCHAR(32),\\n    Quantity INT NOT NULL\\n)'),\n",
       " ('table', 'Customers', 'Customers', 3, 'CREATE TABLE Customers (\\n\\tFirstName VARCHAR(32),\\n    LastName VARCHAR(32),\\n    Age INT,\\n    Customer_ID CHAR(16) PRIMARY KEY\\n)'),\n",
       " ('index', 'sqlite_autoindex_Customers_1', 'Customers', 4, None)]"
      ]
     },
     "execution_count": 6,
     "metadata": {},
     "output_type": "execute_result"
    }
   ],
   "source": [
    "%%sql\n",
    "SELECT * FROM sqlite_master;"
   ]
  },
  {
   "cell_type": "markdown",
   "id": "37236d53",
   "metadata": {},
   "source": [
    "We many also use the same command to display entire tables within our database (our Customers table is empty),"
   ]
  },
  {
   "cell_type": "code",
   "execution_count": 7,
   "id": "f4e98e28",
   "metadata": {
    "vscode": {
     "languageId": "sql"
    }
   },
   "outputs": [
    {
     "name": "stdout",
     "output_type": "stream",
     "text": [
      " * sqlite:///database.db\n",
      "Done.\n"
     ]
    },
    {
     "data": {
      "text/html": [
       "<table>\n",
       "    <thead>\n",
       "        <tr>\n",
       "            <th>FirstName</th>\n",
       "            <th>LastName</th>\n",
       "            <th>Age</th>\n",
       "            <th>Customer_ID</th>\n",
       "        </tr>\n",
       "    </thead>\n",
       "    <tbody>\n",
       "    </tbody>\n",
       "</table>"
      ],
      "text/plain": [
       "[]"
      ]
     },
     "execution_count": 7,
     "metadata": {},
     "output_type": "execute_result"
    }
   ],
   "source": [
    "%%sql\n",
    "SELECT * FROM Customers;"
   ]
  },
  {
   "cell_type": "markdown",
   "id": "2d91a3a0",
   "metadata": {},
   "source": [
    "### 1.3 Deleting Tables\n",
    "\n",
    "Deleting tables completely in SQL is refered to as dropping. Once a table is dropped, it cannot be recovered (this includes its metadata). To drop a table, we simply use the **DROP TABLE** command followed by the table name."
   ]
  },
  {
   "cell_type": "code",
   "execution_count": 8,
   "id": "769d5ee3",
   "metadata": {
    "vscode": {
     "languageId": "sql"
    }
   },
   "outputs": [
    {
     "name": "stdout",
     "output_type": "stream",
     "text": [
      " * sqlite:///database.db\n",
      "Done.\n"
     ]
    },
    {
     "data": {
      "text/plain": [
       "[]"
      ]
     },
     "execution_count": 8,
     "metadata": {},
     "output_type": "execute_result"
    }
   ],
   "source": [
    "%%sql\n",
    "DROP TABLE Customers;"
   ]
  },
  {
   "cell_type": "markdown",
   "id": "1a0e7a2d",
   "metadata": {},
   "source": [
    "### 1.4 Renaming Tables\n",
    "\n",
    "In SQLite, we rename a table by using the **ALTER** and **RENAME TO** commands below. MySQL also allows for the syntax _\"RENAME TABLE table_name to new_table_name\"_ as well (note that SQLite does not)."
   ]
  },
  {
   "cell_type": "code",
   "execution_count": null,
   "id": "7a450f6b",
   "metadata": {
    "vscode": {
     "languageId": "sql"
    }
   },
   "outputs": [
    {
     "name": "stdout",
     "output_type": "stream",
     "text": [
      " * sqlite:///database.db\n",
      "Done.\n"
     ]
    },
    {
     "data": {
      "text/plain": [
       "[]"
      ]
     },
     "execution_count": 72,
     "metadata": {},
     "output_type": "execute_result"
    }
   ],
   "source": [
    "%%sql\n",
    "ALTER TABLE Customers RENAME TO Buyers;"
   ]
  },
  {
   "cell_type": "markdown",
   "id": "fbf9a77a",
   "metadata": {},
   "source": [
    "Renaming it back,"
   ]
  },
  {
   "cell_type": "code",
   "execution_count": 77,
   "id": "d3aa2c2a",
   "metadata": {
    "vscode": {
     "languageId": "sql"
    }
   },
   "outputs": [
    {
     "name": "stdout",
     "output_type": "stream",
     "text": [
      " * sqlite:///database.db\n",
      "Done.\n"
     ]
    },
    {
     "data": {
      "text/plain": [
       "[]"
      ]
     },
     "execution_count": 77,
     "metadata": {},
     "output_type": "execute_result"
    }
   ],
   "source": [
    "%%sql\n",
    "ALTER TABLE Buyers RENAME TO Customers;"
   ]
  },
  {
   "cell_type": "markdown",
   "id": "53ca9341",
   "metadata": {},
   "source": [
    "Avoid renaming system tables − System tables are tables that are created and used by the database management system itself. Renaming these tables can cause issues with the functioning of the database system, so it is generally not recommended to rename system tables.\n",
    "\n",
    "Update all references to the table − After renaming a table, any stored procedures, views, triggers, or other database objects that reference the table will need to be updated to use the new name of the table. Failure to update these references can result in errors or issues with the functioning of the database system.\n",
    "\n",
    "Test thoroughly − Before renaming a table in a production environment, it is important to test the renaming process thoroughly in a development or testing environment to ensure that all references to the table have been updated correctly and that the database system continues to function as expected.\n",
    "\n",
    "Use a consistent naming convention − It is a good practice to use a consistent naming convention for tables and other database objects to make it easier to understand and maintain the database system. If you need to rename a table, consider following the same naming convention that you have used for other tables in the database.\n",
    "\n",
    "Backup the database − Before renaming a table, it is recommended to create a backup of the database to ensure that you have a restore point; in case anything goes wrong during the renaming process."
   ]
  },
  {
   "cell_type": "markdown",
   "id": "98b4bff4",
   "metadata": {},
   "source": [
    "### 1.5 Deleting Rows\n",
    "\n",
    "To delete a row in table, we use the **DELETE** command paired with **WHERE**. If we do not provide a condition with **WHERE**, all rows in the table will be deleted. To demonstate this, let us populate our table,"
   ]
  },
  {
   "cell_type": "code",
   "execution_count": 14,
   "id": "1cc86736",
   "metadata": {
    "vscode": {
     "languageId": "sql"
    }
   },
   "outputs": [
    {
     "name": "stdout",
     "output_type": "stream",
     "text": [
      " * sqlite:///database.db\n",
      "20 rows affected.\n",
      "Done.\n"
     ]
    },
    {
     "data": {
      "text/html": [
       "<table>\n",
       "    <thead>\n",
       "        <tr>\n",
       "            <th>FirstName</th>\n",
       "            <th>LastName</th>\n",
       "            <th>Age</th>\n",
       "            <th>Customer_ID</th>\n",
       "        </tr>\n",
       "    </thead>\n",
       "    <tbody>\n",
       "        <tr>\n",
       "            <td>Alice</td>\n",
       "            <td>Johnson</td>\n",
       "            <td>29</td>\n",
       "            <td>CUST000000000001</td>\n",
       "        </tr>\n",
       "        <tr>\n",
       "            <td>Bob</td>\n",
       "            <td>Smith</td>\n",
       "            <td>42</td>\n",
       "            <td>CUST000000000002</td>\n",
       "        </tr>\n",
       "        <tr>\n",
       "            <td>Charlie</td>\n",
       "            <td>Lee</td>\n",
       "            <td>35</td>\n",
       "            <td>CUST000000000003</td>\n",
       "        </tr>\n",
       "        <tr>\n",
       "            <td>Diana</td>\n",
       "            <td>Martinez</td>\n",
       "            <td>27</td>\n",
       "            <td>CUST000000000004</td>\n",
       "        </tr>\n",
       "        <tr>\n",
       "            <td>Ethan</td>\n",
       "            <td>Brown</td>\n",
       "            <td>50</td>\n",
       "            <td>CUST000000000005</td>\n",
       "        </tr>\n",
       "        <tr>\n",
       "            <td>Fiona</td>\n",
       "            <td>Davis</td>\n",
       "            <td>31</td>\n",
       "            <td>CUST000000000006</td>\n",
       "        </tr>\n",
       "        <tr>\n",
       "            <td>George</td>\n",
       "            <td>Wilson</td>\n",
       "            <td>44</td>\n",
       "            <td>CUST000000000007</td>\n",
       "        </tr>\n",
       "        <tr>\n",
       "            <td>Hannah</td>\n",
       "            <td>Taylor</td>\n",
       "            <td>23</td>\n",
       "            <td>CUST000000000008</td>\n",
       "        </tr>\n",
       "        <tr>\n",
       "            <td>Ian</td>\n",
       "            <td>Anderson</td>\n",
       "            <td>38</td>\n",
       "            <td>CUST000000000009</td>\n",
       "        </tr>\n",
       "        <tr>\n",
       "            <td>Jasmine</td>\n",
       "            <td>Thomas</td>\n",
       "            <td>26</td>\n",
       "            <td>CUST000000000010</td>\n",
       "        </tr>\n",
       "        <tr>\n",
       "            <td>Kevin</td>\n",
       "            <td>Moore</td>\n",
       "            <td>41</td>\n",
       "            <td>CUST000000000011</td>\n",
       "        </tr>\n",
       "        <tr>\n",
       "            <td>Laura</td>\n",
       "            <td>White</td>\n",
       "            <td>33</td>\n",
       "            <td>CUST000000000012</td>\n",
       "        </tr>\n",
       "        <tr>\n",
       "            <td>Michael</td>\n",
       "            <td>Hall</td>\n",
       "            <td>47</td>\n",
       "            <td>CUST000000000013</td>\n",
       "        </tr>\n",
       "        <tr>\n",
       "            <td>Nina</td>\n",
       "            <td>Allen</td>\n",
       "            <td>28</td>\n",
       "            <td>CUST000000000014</td>\n",
       "        </tr>\n",
       "        <tr>\n",
       "            <td>Oscar</td>\n",
       "            <td>Young</td>\n",
       "            <td>36</td>\n",
       "            <td>CUST000000000015</td>\n",
       "        </tr>\n",
       "        <tr>\n",
       "            <td>Priya</td>\n",
       "            <td>King</td>\n",
       "            <td>32</td>\n",
       "            <td>CUST000000000016</td>\n",
       "        </tr>\n",
       "        <tr>\n",
       "            <td>Quentin</td>\n",
       "            <td>Wright</td>\n",
       "            <td>45</td>\n",
       "            <td>CUST000000000017</td>\n",
       "        </tr>\n",
       "        <tr>\n",
       "            <td>Rita</td>\n",
       "            <td>Scott</td>\n",
       "            <td>25</td>\n",
       "            <td>CUST000000000018</td>\n",
       "        </tr>\n",
       "        <tr>\n",
       "            <td>Samuel</td>\n",
       "            <td>Green</td>\n",
       "            <td>39</td>\n",
       "            <td>CUST000000000019</td>\n",
       "        </tr>\n",
       "        <tr>\n",
       "            <td>Tina</td>\n",
       "            <td>Baker</td>\n",
       "            <td>30</td>\n",
       "            <td>CUST000000000020</td>\n",
       "        </tr>\n",
       "    </tbody>\n",
       "</table>"
      ],
      "text/plain": [
       "[('Alice', 'Johnson', 29, 'CUST000000000001'),\n",
       " ('Bob', 'Smith', 42, 'CUST000000000002'),\n",
       " ('Charlie', 'Lee', 35, 'CUST000000000003'),\n",
       " ('Diana', 'Martinez', 27, 'CUST000000000004'),\n",
       " ('Ethan', 'Brown', 50, 'CUST000000000005'),\n",
       " ('Fiona', 'Davis', 31, 'CUST000000000006'),\n",
       " ('George', 'Wilson', 44, 'CUST000000000007'),\n",
       " ('Hannah', 'Taylor', 23, 'CUST000000000008'),\n",
       " ('Ian', 'Anderson', 38, 'CUST000000000009'),\n",
       " ('Jasmine', 'Thomas', 26, 'CUST000000000010'),\n",
       " ('Kevin', 'Moore', 41, 'CUST000000000011'),\n",
       " ('Laura', 'White', 33, 'CUST000000000012'),\n",
       " ('Michael', 'Hall', 47, 'CUST000000000013'),\n",
       " ('Nina', 'Allen', 28, 'CUST000000000014'),\n",
       " ('Oscar', 'Young', 36, 'CUST000000000015'),\n",
       " ('Priya', 'King', 32, 'CUST000000000016'),\n",
       " ('Quentin', 'Wright', 45, 'CUST000000000017'),\n",
       " ('Rita', 'Scott', 25, 'CUST000000000018'),\n",
       " ('Samuel', 'Green', 39, 'CUST000000000019'),\n",
       " ('Tina', 'Baker', 30, 'CUST000000000020')]"
      ]
     },
     "execution_count": 14,
     "metadata": {},
     "output_type": "execute_result"
    }
   ],
   "source": [
    "%%sql\n",
    "INSERT INTO Customers (FirstName, LastName, Age, Customer_ID) VALUES\n",
    "('Alice', 'Johnson', 29, 'CUST000000000001'),\n",
    "('Bob', 'Smith', 42, 'CUST000000000002'),\n",
    "('Charlie', 'Lee', 35, 'CUST000000000003'),\n",
    "('Diana', 'Martinez', 27, 'CUST000000000004'),\n",
    "('Ethan', 'Brown', 50, 'CUST000000000005'),\n",
    "('Fiona', 'Davis', 31, 'CUST000000000006'),\n",
    "('George', 'Wilson', 44, 'CUST000000000007'),\n",
    "('Hannah', 'Taylor', 23, 'CUST000000000008'),\n",
    "('Ian', 'Anderson', 38, 'CUST000000000009'),\n",
    "('Jasmine', 'Thomas', 26, 'CUST000000000010'),\n",
    "('Kevin', 'Moore', 41, 'CUST000000000011'),\n",
    "('Laura', 'White', 33, 'CUST000000000012'),\n",
    "('Michael', 'Hall', 47, 'CUST000000000013'),\n",
    "('Nina', 'Allen', 28, 'CUST000000000014'),\n",
    "('Oscar', 'Young', 36, 'CUST000000000015'),\n",
    "('Priya', 'King', 32, 'CUST000000000016'),\n",
    "('Quentin', 'Wright', 45, 'CUST000000000017'),\n",
    "('Rita', 'Scott', 25, 'CUST000000000018'),\n",
    "('Samuel', 'Green', 39, 'CUST000000000019'),\n",
    "('Tina', 'Baker', 30, 'CUST000000000020');\n",
    "\n",
    "SELECT * FROM Customers"
   ]
  },
  {
   "cell_type": "markdown",
   "id": "b95a2c71",
   "metadata": {},
   "source": [
    "Now we delete any customers who are over the age of 40. That is, we delete any rows whose age field contains a value above 40 with the following command,"
   ]
  },
  {
   "cell_type": "code",
   "execution_count": 9,
   "id": "350ad0f6",
   "metadata": {
    "vscode": {
     "languageId": "sql"
    }
   },
   "outputs": [
    {
     "name": "stdout",
     "output_type": "stream",
     "text": [
      " * sqlite:///database.db\n",
      "6 rows affected.\n",
      "Done.\n"
     ]
    },
    {
     "data": {
      "text/html": [
       "<table>\n",
       "    <thead>\n",
       "        <tr>\n",
       "            <th>FirstName</th>\n",
       "            <th>LastName</th>\n",
       "            <th>Age</th>\n",
       "            <th>Customer_ID</th>\n",
       "        </tr>\n",
       "    </thead>\n",
       "    <tbody>\n",
       "        <tr>\n",
       "            <td>Alice</td>\n",
       "            <td>Johnson</td>\n",
       "            <td>29</td>\n",
       "            <td>CUST000000000001</td>\n",
       "        </tr>\n",
       "        <tr>\n",
       "            <td>Charlie</td>\n",
       "            <td>Lee</td>\n",
       "            <td>35</td>\n",
       "            <td>CUST000000000003</td>\n",
       "        </tr>\n",
       "        <tr>\n",
       "            <td>Diana</td>\n",
       "            <td>Martinez</td>\n",
       "            <td>27</td>\n",
       "            <td>CUST000000000004</td>\n",
       "        </tr>\n",
       "        <tr>\n",
       "            <td>Fiona</td>\n",
       "            <td>Davis</td>\n",
       "            <td>31</td>\n",
       "            <td>CUST000000000006</td>\n",
       "        </tr>\n",
       "        <tr>\n",
       "            <td>Hannah</td>\n",
       "            <td>Taylor</td>\n",
       "            <td>23</td>\n",
       "            <td>CUST000000000008</td>\n",
       "        </tr>\n",
       "        <tr>\n",
       "            <td>Ian</td>\n",
       "            <td>Anderson</td>\n",
       "            <td>38</td>\n",
       "            <td>CUST000000000009</td>\n",
       "        </tr>\n",
       "        <tr>\n",
       "            <td>Jasmine</td>\n",
       "            <td>Thomas</td>\n",
       "            <td>26</td>\n",
       "            <td>CUST000000000010</td>\n",
       "        </tr>\n",
       "        <tr>\n",
       "            <td>Laura</td>\n",
       "            <td>White</td>\n",
       "            <td>33</td>\n",
       "            <td>CUST000000000012</td>\n",
       "        </tr>\n",
       "        <tr>\n",
       "            <td>Nina</td>\n",
       "            <td>Allen</td>\n",
       "            <td>28</td>\n",
       "            <td>CUST000000000014</td>\n",
       "        </tr>\n",
       "        <tr>\n",
       "            <td>Oscar</td>\n",
       "            <td>Young</td>\n",
       "            <td>36</td>\n",
       "            <td>CUST000000000015</td>\n",
       "        </tr>\n",
       "        <tr>\n",
       "            <td>Priya</td>\n",
       "            <td>King</td>\n",
       "            <td>32</td>\n",
       "            <td>CUST000000000016</td>\n",
       "        </tr>\n",
       "        <tr>\n",
       "            <td>Rita</td>\n",
       "            <td>Scott</td>\n",
       "            <td>25</td>\n",
       "            <td>CUST000000000018</td>\n",
       "        </tr>\n",
       "        <tr>\n",
       "            <td>Samuel</td>\n",
       "            <td>Green</td>\n",
       "            <td>39</td>\n",
       "            <td>CUST000000000019</td>\n",
       "        </tr>\n",
       "        <tr>\n",
       "            <td>Tina</td>\n",
       "            <td>Baker</td>\n",
       "            <td>30</td>\n",
       "            <td>CUST000000000020</td>\n",
       "        </tr>\n",
       "    </tbody>\n",
       "</table>"
      ],
      "text/plain": [
       "[('Alice', 'Johnson', 29, 'CUST000000000001'),\n",
       " ('Charlie', 'Lee', 35, 'CUST000000000003'),\n",
       " ('Diana', 'Martinez', 27, 'CUST000000000004'),\n",
       " ('Fiona', 'Davis', 31, 'CUST000000000006'),\n",
       " ('Hannah', 'Taylor', 23, 'CUST000000000008'),\n",
       " ('Ian', 'Anderson', 38, 'CUST000000000009'),\n",
       " ('Jasmine', 'Thomas', 26, 'CUST000000000010'),\n",
       " ('Laura', 'White', 33, 'CUST000000000012'),\n",
       " ('Nina', 'Allen', 28, 'CUST000000000014'),\n",
       " ('Oscar', 'Young', 36, 'CUST000000000015'),\n",
       " ('Priya', 'King', 32, 'CUST000000000016'),\n",
       " ('Rita', 'Scott', 25, 'CUST000000000018'),\n",
       " ('Samuel', 'Green', 39, 'CUST000000000019'),\n",
       " ('Tina', 'Baker', 30, 'CUST000000000020')]"
      ]
     },
     "execution_count": 9,
     "metadata": {},
     "output_type": "execute_result"
    }
   ],
   "source": [
    "%%sql\n",
    "\n",
    "DELETE FROM Customers WHERE Age > 40;\n",
    "SELECT * FROM Customers;"
   ]
  },
  {
   "cell_type": "markdown",
   "id": "3299bbd2",
   "metadata": {},
   "source": [
    "We can also chain together multiple conditions with **AND** and **OR** together,"
   ]
  },
  {
   "cell_type": "code",
   "execution_count": 11,
   "id": "6ab05e02",
   "metadata": {
    "vscode": {
     "languageId": "sql"
    }
   },
   "outputs": [
    {
     "name": "stdout",
     "output_type": "stream",
     "text": [
      " * sqlite:///database.db\n",
      "4 rows affected.\n",
      "Done.\n"
     ]
    },
    {
     "data": {
      "text/html": [
       "<table>\n",
       "    <thead>\n",
       "        <tr>\n",
       "            <th>FirstName</th>\n",
       "            <th>LastName</th>\n",
       "            <th>Age</th>\n",
       "            <th>Customer_ID</th>\n",
       "        </tr>\n",
       "    </thead>\n",
       "    <tbody>\n",
       "        <tr>\n",
       "            <td>Alice</td>\n",
       "            <td>Johnson</td>\n",
       "            <td>29</td>\n",
       "            <td>CUST000000000001</td>\n",
       "        </tr>\n",
       "        <tr>\n",
       "            <td>Charlie</td>\n",
       "            <td>Lee</td>\n",
       "            <td>35</td>\n",
       "            <td>CUST000000000003</td>\n",
       "        </tr>\n",
       "        <tr>\n",
       "            <td>Diana</td>\n",
       "            <td>Martinez</td>\n",
       "            <td>27</td>\n",
       "            <td>CUST000000000004</td>\n",
       "        </tr>\n",
       "        <tr>\n",
       "            <td>Fiona</td>\n",
       "            <td>Davis</td>\n",
       "            <td>31</td>\n",
       "            <td>CUST000000000006</td>\n",
       "        </tr>\n",
       "        <tr>\n",
       "            <td>Jasmine</td>\n",
       "            <td>Thomas</td>\n",
       "            <td>26</td>\n",
       "            <td>CUST000000000010</td>\n",
       "        </tr>\n",
       "        <tr>\n",
       "            <td>Laura</td>\n",
       "            <td>White</td>\n",
       "            <td>33</td>\n",
       "            <td>CUST000000000012</td>\n",
       "        </tr>\n",
       "        <tr>\n",
       "            <td>Nina</td>\n",
       "            <td>Allen</td>\n",
       "            <td>28</td>\n",
       "            <td>CUST000000000014</td>\n",
       "        </tr>\n",
       "        <tr>\n",
       "            <td>Priya</td>\n",
       "            <td>King</td>\n",
       "            <td>32</td>\n",
       "            <td>CUST000000000016</td>\n",
       "        </tr>\n",
       "        <tr>\n",
       "            <td>Rita</td>\n",
       "            <td>Scott</td>\n",
       "            <td>25</td>\n",
       "            <td>CUST000000000018</td>\n",
       "        </tr>\n",
       "        <tr>\n",
       "            <td>Tina</td>\n",
       "            <td>Baker</td>\n",
       "            <td>30</td>\n",
       "            <td>CUST000000000020</td>\n",
       "        </tr>\n",
       "    </tbody>\n",
       "</table>"
      ],
      "text/plain": [
       "[('Alice', 'Johnson', 29, 'CUST000000000001'),\n",
       " ('Charlie', 'Lee', 35, 'CUST000000000003'),\n",
       " ('Diana', 'Martinez', 27, 'CUST000000000004'),\n",
       " ('Fiona', 'Davis', 31, 'CUST000000000006'),\n",
       " ('Jasmine', 'Thomas', 26, 'CUST000000000010'),\n",
       " ('Laura', 'White', 33, 'CUST000000000012'),\n",
       " ('Nina', 'Allen', 28, 'CUST000000000014'),\n",
       " ('Priya', 'King', 32, 'CUST000000000016'),\n",
       " ('Rita', 'Scott', 25, 'CUST000000000018'),\n",
       " ('Tina', 'Baker', 30, 'CUST000000000020')]"
      ]
     },
     "execution_count": 11,
     "metadata": {},
     "output_type": "execute_result"
    }
   ],
   "source": [
    "%%sql\n",
    "\n",
    "DELETE FROM Customers WHERE Age > 35 OR Age < 25;\n",
    "SELECT * FROM Customers;"
   ]
  },
  {
   "cell_type": "markdown",
   "id": "49b32952",
   "metadata": {},
   "source": [
    "Not that we can remove all the rows from the table, effectively resetting the table to its original state (containing only the structure and its constraints). However, it's important to note that this cannot be undone, and all the data in the table will be permanently deleted."
   ]
  },
  {
   "cell_type": "code",
   "execution_count": 13,
   "id": "b51b1bb3",
   "metadata": {
    "vscode": {
     "languageId": "sql"
    }
   },
   "outputs": [
    {
     "name": "stdout",
     "output_type": "stream",
     "text": [
      " * sqlite:///database.db\n",
      "10 rows affected.\n",
      "Done.\n"
     ]
    },
    {
     "data": {
      "text/html": [
       "<table>\n",
       "    <thead>\n",
       "        <tr>\n",
       "            <th>FirstName</th>\n",
       "            <th>LastName</th>\n",
       "            <th>Age</th>\n",
       "            <th>Customer_ID</th>\n",
       "        </tr>\n",
       "    </thead>\n",
       "    <tbody>\n",
       "    </tbody>\n",
       "</table>"
      ],
      "text/plain": [
       "[]"
      ]
     },
     "execution_count": 13,
     "metadata": {},
     "output_type": "execute_result"
    }
   ],
   "source": [
    "%%sql\n",
    "\n",
    "DELETE FROM Customers;\n",
    "SELECT * FROM Customers;"
   ]
  },
  {
   "cell_type": "markdown",
   "id": "cd0933cb",
   "metadata": {},
   "source": [
    "It should be pointed out that **DELETE** is a DML command which inspects each row at a time and check if it meets the deletion condition. This holds even when no conditions are given. Using **DELETE** for large tables containing millions of rows can be slow. Therefore, it is good practice to instead use **TRUNCATE TABLE** which allows us to delete all rows in the table while keeping its structure. Note that SQLite does not support this command as it is not designed to handle very large databases. "
   ]
  },
  {
   "cell_type": "markdown",
   "id": "e51c824a",
   "metadata": {},
   "source": [
    "### 1.6 Cloning Tables\n",
    "\n",
    "There are many situations where we may need an exact copy of a table to modify seperately. Three types of cloning: **simple**, **shallow** and **deep** exist in various RDBMS. In simple cloning, we create a table and simply copy all the rows from the other table we are copying from (note that in MySQL we do not include **AS**),"
   ]
  },
  {
   "cell_type": "code",
   "execution_count": null,
   "id": "9e89ef1d",
   "metadata": {
    "vscode": {
     "languageId": "sql"
    }
   },
   "outputs": [
    {
     "name": "stdout",
     "output_type": "stream",
     "text": [
      " * sqlite:///database.db\n",
      "Done.\n",
      "Done.\n"
     ]
    },
    {
     "data": {
      "text/html": [
       "<table>\n",
       "    <thead>\n",
       "        <tr>\n",
       "            <th>FirstName</th>\n",
       "            <th>LastName</th>\n",
       "            <th>Age</th>\n",
       "            <th>Customer_ID</th>\n",
       "        </tr>\n",
       "    </thead>\n",
       "    <tbody>\n",
       "        <tr>\n",
       "            <td>Alice</td>\n",
       "            <td>Johnson</td>\n",
       "            <td>29</td>\n",
       "            <td>CUST000000000001</td>\n",
       "        </tr>\n",
       "        <tr>\n",
       "            <td>Bob</td>\n",
       "            <td>Smith</td>\n",
       "            <td>42</td>\n",
       "            <td>CUST000000000002</td>\n",
       "        </tr>\n",
       "        <tr>\n",
       "            <td>Charlie</td>\n",
       "            <td>Lee</td>\n",
       "            <td>35</td>\n",
       "            <td>CUST000000000003</td>\n",
       "        </tr>\n",
       "        <tr>\n",
       "            <td>Diana</td>\n",
       "            <td>Martinez</td>\n",
       "            <td>27</td>\n",
       "            <td>CUST000000000004</td>\n",
       "        </tr>\n",
       "        <tr>\n",
       "            <td>Ethan</td>\n",
       "            <td>Brown</td>\n",
       "            <td>50</td>\n",
       "            <td>CUST000000000005</td>\n",
       "        </tr>\n",
       "        <tr>\n",
       "            <td>Fiona</td>\n",
       "            <td>Davis</td>\n",
       "            <td>31</td>\n",
       "            <td>CUST000000000006</td>\n",
       "        </tr>\n",
       "        <tr>\n",
       "            <td>George</td>\n",
       "            <td>Wilson</td>\n",
       "            <td>44</td>\n",
       "            <td>CUST000000000007</td>\n",
       "        </tr>\n",
       "        <tr>\n",
       "            <td>Hannah</td>\n",
       "            <td>Taylor</td>\n",
       "            <td>23</td>\n",
       "            <td>CUST000000000008</td>\n",
       "        </tr>\n",
       "        <tr>\n",
       "            <td>Ian</td>\n",
       "            <td>Anderson</td>\n",
       "            <td>38</td>\n",
       "            <td>CUST000000000009</td>\n",
       "        </tr>\n",
       "        <tr>\n",
       "            <td>Jasmine</td>\n",
       "            <td>Thomas</td>\n",
       "            <td>26</td>\n",
       "            <td>CUST000000000010</td>\n",
       "        </tr>\n",
       "        <tr>\n",
       "            <td>Kevin</td>\n",
       "            <td>Moore</td>\n",
       "            <td>41</td>\n",
       "            <td>CUST000000000011</td>\n",
       "        </tr>\n",
       "        <tr>\n",
       "            <td>Laura</td>\n",
       "            <td>White</td>\n",
       "            <td>33</td>\n",
       "            <td>CUST000000000012</td>\n",
       "        </tr>\n",
       "        <tr>\n",
       "            <td>Michael</td>\n",
       "            <td>Hall</td>\n",
       "            <td>47</td>\n",
       "            <td>CUST000000000013</td>\n",
       "        </tr>\n",
       "        <tr>\n",
       "            <td>Nina</td>\n",
       "            <td>Allen</td>\n",
       "            <td>28</td>\n",
       "            <td>CUST000000000014</td>\n",
       "        </tr>\n",
       "        <tr>\n",
       "            <td>Oscar</td>\n",
       "            <td>Young</td>\n",
       "            <td>36</td>\n",
       "            <td>CUST000000000015</td>\n",
       "        </tr>\n",
       "        <tr>\n",
       "            <td>Priya</td>\n",
       "            <td>King</td>\n",
       "            <td>32</td>\n",
       "            <td>CUST000000000016</td>\n",
       "        </tr>\n",
       "        <tr>\n",
       "            <td>Quentin</td>\n",
       "            <td>Wright</td>\n",
       "            <td>45</td>\n",
       "            <td>CUST000000000017</td>\n",
       "        </tr>\n",
       "        <tr>\n",
       "            <td>Rita</td>\n",
       "            <td>Scott</td>\n",
       "            <td>25</td>\n",
       "            <td>CUST000000000018</td>\n",
       "        </tr>\n",
       "        <tr>\n",
       "            <td>Samuel</td>\n",
       "            <td>Green</td>\n",
       "            <td>39</td>\n",
       "            <td>CUST000000000019</td>\n",
       "        </tr>\n",
       "        <tr>\n",
       "            <td>Tina</td>\n",
       "            <td>Baker</td>\n",
       "            <td>30</td>\n",
       "            <td>CUST000000000020</td>\n",
       "        </tr>\n",
       "    </tbody>\n",
       "</table>"
      ],
      "text/plain": [
       "[('Alice', 'Johnson', 29, 'CUST000000000001'),\n",
       " ('Bob', 'Smith', 42, 'CUST000000000002'),\n",
       " ('Charlie', 'Lee', 35, 'CUST000000000003'),\n",
       " ('Diana', 'Martinez', 27, 'CUST000000000004'),\n",
       " ('Ethan', 'Brown', 50, 'CUST000000000005'),\n",
       " ('Fiona', 'Davis', 31, 'CUST000000000006'),\n",
       " ('George', 'Wilson', 44, 'CUST000000000007'),\n",
       " ('Hannah', 'Taylor', 23, 'CUST000000000008'),\n",
       " ('Ian', 'Anderson', 38, 'CUST000000000009'),\n",
       " ('Jasmine', 'Thomas', 26, 'CUST000000000010'),\n",
       " ('Kevin', 'Moore', 41, 'CUST000000000011'),\n",
       " ('Laura', 'White', 33, 'CUST000000000012'),\n",
       " ('Michael', 'Hall', 47, 'CUST000000000013'),\n",
       " ('Nina', 'Allen', 28, 'CUST000000000014'),\n",
       " ('Oscar', 'Young', 36, 'CUST000000000015'),\n",
       " ('Priya', 'King', 32, 'CUST000000000016'),\n",
       " ('Quentin', 'Wright', 45, 'CUST000000000017'),\n",
       " ('Rita', 'Scott', 25, 'CUST000000000018'),\n",
       " ('Samuel', 'Green', 39, 'CUST000000000019'),\n",
       " ('Tina', 'Baker', 30, 'CUST000000000020')]"
      ]
     },
     "execution_count": 20,
     "metadata": {},
     "output_type": "execute_result"
    }
   ],
   "source": [
    "%%sql\n",
    "CREATE TABLE Customers_copy1 AS SELECT * FROM Customers;\n",
    "SELECT * FROM Customers_copy1;"
   ]
  },
  {
   "cell_type": "markdown",
   "id": "c65a7386",
   "metadata": {},
   "source": [
    "In shallow cloning, we all copy the table structure and not any of its data. In SQLite, we have,"
   ]
  },
  {
   "cell_type": "code",
   "execution_count": 32,
   "id": "f803278c",
   "metadata": {
    "vscode": {
     "languageId": "sql"
    }
   },
   "outputs": [
    {
     "name": "stdout",
     "output_type": "stream",
     "text": [
      " * sqlite:///database.db\n",
      "Done.\n",
      "Done.\n"
     ]
    },
    {
     "data": {
      "text/html": [
       "<table>\n",
       "    <thead>\n",
       "        <tr>\n",
       "            <th>FirstName</th>\n",
       "            <th>LastName</th>\n",
       "            <th>Age</th>\n",
       "            <th>Customer_ID</th>\n",
       "        </tr>\n",
       "    </thead>\n",
       "    <tbody>\n",
       "    </tbody>\n",
       "</table>"
      ],
      "text/plain": [
       "[]"
      ]
     },
     "execution_count": 32,
     "metadata": {},
     "output_type": "execute_result"
    }
   ],
   "source": [
    "%%sql\n",
    "CREATE TABLE Customers_copy2 AS SELECT * FROM Customers WHERE 0;\n",
    "SELECT * FROM Customers_copy2;"
   ]
  },
  {
   "cell_type": "markdown",
   "id": "947ea69a",
   "metadata": {},
   "source": [
    "In SQLite, shallow and deep copying do not exist like they do in MySQL. We able to shallow copy by analogy as shown above, but we cannot deep copy which involves copying the contraints and keys. For deep copying, we have to manually replicate the schema of the table we are copying from and then copy its data. "
   ]
  },
  {
   "cell_type": "code",
   "execution_count": 40,
   "id": "73b4c4ea",
   "metadata": {
    "vscode": {
     "languageId": "sql"
    }
   },
   "outputs": [
    {
     "name": "stdout",
     "output_type": "stream",
     "text": [
      " * sqlite:///database.db\n",
      "Done.\n",
      "20 rows affected.\n",
      "Done.\n"
     ]
    },
    {
     "data": {
      "text/html": [
       "<table>\n",
       "    <thead>\n",
       "        <tr>\n",
       "            <th>FirstName</th>\n",
       "            <th>LastName</th>\n",
       "            <th>Age</th>\n",
       "            <th>Customer_ID</th>\n",
       "        </tr>\n",
       "    </thead>\n",
       "    <tbody>\n",
       "        <tr>\n",
       "            <td>Alice</td>\n",
       "            <td>Johnson</td>\n",
       "            <td>29</td>\n",
       "            <td>CUST000000000001</td>\n",
       "        </tr>\n",
       "        <tr>\n",
       "            <td>Bob</td>\n",
       "            <td>Smith</td>\n",
       "            <td>42</td>\n",
       "            <td>CUST000000000002</td>\n",
       "        </tr>\n",
       "        <tr>\n",
       "            <td>Charlie</td>\n",
       "            <td>Lee</td>\n",
       "            <td>35</td>\n",
       "            <td>CUST000000000003</td>\n",
       "        </tr>\n",
       "        <tr>\n",
       "            <td>Diana</td>\n",
       "            <td>Martinez</td>\n",
       "            <td>27</td>\n",
       "            <td>CUST000000000004</td>\n",
       "        </tr>\n",
       "        <tr>\n",
       "            <td>Ethan</td>\n",
       "            <td>Brown</td>\n",
       "            <td>50</td>\n",
       "            <td>CUST000000000005</td>\n",
       "        </tr>\n",
       "        <tr>\n",
       "            <td>Fiona</td>\n",
       "            <td>Davis</td>\n",
       "            <td>31</td>\n",
       "            <td>CUST000000000006</td>\n",
       "        </tr>\n",
       "        <tr>\n",
       "            <td>George</td>\n",
       "            <td>Wilson</td>\n",
       "            <td>44</td>\n",
       "            <td>CUST000000000007</td>\n",
       "        </tr>\n",
       "        <tr>\n",
       "            <td>Hannah</td>\n",
       "            <td>Taylor</td>\n",
       "            <td>23</td>\n",
       "            <td>CUST000000000008</td>\n",
       "        </tr>\n",
       "        <tr>\n",
       "            <td>Ian</td>\n",
       "            <td>Anderson</td>\n",
       "            <td>38</td>\n",
       "            <td>CUST000000000009</td>\n",
       "        </tr>\n",
       "        <tr>\n",
       "            <td>Jasmine</td>\n",
       "            <td>Thomas</td>\n",
       "            <td>26</td>\n",
       "            <td>CUST000000000010</td>\n",
       "        </tr>\n",
       "        <tr>\n",
       "            <td>Kevin</td>\n",
       "            <td>Moore</td>\n",
       "            <td>41</td>\n",
       "            <td>CUST000000000011</td>\n",
       "        </tr>\n",
       "        <tr>\n",
       "            <td>Laura</td>\n",
       "            <td>White</td>\n",
       "            <td>33</td>\n",
       "            <td>CUST000000000012</td>\n",
       "        </tr>\n",
       "        <tr>\n",
       "            <td>Michael</td>\n",
       "            <td>Hall</td>\n",
       "            <td>47</td>\n",
       "            <td>CUST000000000013</td>\n",
       "        </tr>\n",
       "        <tr>\n",
       "            <td>Nina</td>\n",
       "            <td>Allen</td>\n",
       "            <td>28</td>\n",
       "            <td>CUST000000000014</td>\n",
       "        </tr>\n",
       "        <tr>\n",
       "            <td>Oscar</td>\n",
       "            <td>Young</td>\n",
       "            <td>36</td>\n",
       "            <td>CUST000000000015</td>\n",
       "        </tr>\n",
       "        <tr>\n",
       "            <td>Priya</td>\n",
       "            <td>King</td>\n",
       "            <td>32</td>\n",
       "            <td>CUST000000000016</td>\n",
       "        </tr>\n",
       "        <tr>\n",
       "            <td>Quentin</td>\n",
       "            <td>Wright</td>\n",
       "            <td>45</td>\n",
       "            <td>CUST000000000017</td>\n",
       "        </tr>\n",
       "        <tr>\n",
       "            <td>Rita</td>\n",
       "            <td>Scott</td>\n",
       "            <td>25</td>\n",
       "            <td>CUST000000000018</td>\n",
       "        </tr>\n",
       "        <tr>\n",
       "            <td>Samuel</td>\n",
       "            <td>Green</td>\n",
       "            <td>39</td>\n",
       "            <td>CUST000000000019</td>\n",
       "        </tr>\n",
       "        <tr>\n",
       "            <td>Tina</td>\n",
       "            <td>Baker</td>\n",
       "            <td>30</td>\n",
       "            <td>CUST000000000020</td>\n",
       "        </tr>\n",
       "    </tbody>\n",
       "</table>"
      ],
      "text/plain": [
       "[('Alice', 'Johnson', 29, 'CUST000000000001'),\n",
       " ('Bob', 'Smith', 42, 'CUST000000000002'),\n",
       " ('Charlie', 'Lee', 35, 'CUST000000000003'),\n",
       " ('Diana', 'Martinez', 27, 'CUST000000000004'),\n",
       " ('Ethan', 'Brown', 50, 'CUST000000000005'),\n",
       " ('Fiona', 'Davis', 31, 'CUST000000000006'),\n",
       " ('George', 'Wilson', 44, 'CUST000000000007'),\n",
       " ('Hannah', 'Taylor', 23, 'CUST000000000008'),\n",
       " ('Ian', 'Anderson', 38, 'CUST000000000009'),\n",
       " ('Jasmine', 'Thomas', 26, 'CUST000000000010'),\n",
       " ('Kevin', 'Moore', 41, 'CUST000000000011'),\n",
       " ('Laura', 'White', 33, 'CUST000000000012'),\n",
       " ('Michael', 'Hall', 47, 'CUST000000000013'),\n",
       " ('Nina', 'Allen', 28, 'CUST000000000014'),\n",
       " ('Oscar', 'Young', 36, 'CUST000000000015'),\n",
       " ('Priya', 'King', 32, 'CUST000000000016'),\n",
       " ('Quentin', 'Wright', 45, 'CUST000000000017'),\n",
       " ('Rita', 'Scott', 25, 'CUST000000000018'),\n",
       " ('Samuel', 'Green', 39, 'CUST000000000019'),\n",
       " ('Tina', 'Baker', 30, 'CUST000000000020')]"
      ]
     },
     "execution_count": 40,
     "metadata": {},
     "output_type": "execute_result"
    }
   ],
   "source": [
    "%%sql\n",
    "CREATE TABLE Customers_copy3 (\n",
    "    FirstName VARCHAR(32) NOT NULL,\n",
    "    LastName VARCHAR(32),\n",
    "    Age INT,\n",
    "    Customer_ID CHAR(16) NOT NULL,\n",
    "    PRIMARY KEY (Customer_ID)\n",
    ");\n",
    "\n",
    "INSERT INTO Customers_copy3 SELECT * FROM Customers;\n",
    "SELECT * FROM Customers;"
   ]
  },
  {
   "cell_type": "markdown",
   "id": "aec3dcde",
   "metadata": {},
   "source": [
    "### 1.7 Temporary Tables"
   ]
  },
  {
   "cell_type": "markdown",
   "id": "60700fb1",
   "metadata": {},
   "source": []
  }
 ],
 "metadata": {
  "kernelspec": {
   "display_name": "base",
   "language": "python",
   "name": "python3"
  },
  "language_info": {
   "codemirror_mode": {
    "name": "ipython",
    "version": 3
   },
   "file_extension": ".py",
   "mimetype": "text/x-python",
   "name": "python",
   "nbconvert_exporter": "python",
   "pygments_lexer": "ipython3",
   "version": "3.12.7"
  }
 },
 "nbformat": 4,
 "nbformat_minor": 5
}
