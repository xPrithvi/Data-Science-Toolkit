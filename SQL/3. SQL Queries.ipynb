{
 "cells": [
  {
   "cell_type": "markdown",
   "id": "e221ddb4",
   "metadata": {},
   "source": [
    "# 3. SQL Queries"
   ]
  },
  {
   "cell_type": "markdown",
   "id": "35c38f46",
   "metadata": {},
   "source": [
    "In this section, we will cover SQL queries which allow us to add and retrive data from a table. As usual, let us connect to the database,"
   ]
  },
  {
   "cell_type": "code",
   "execution_count": 3,
   "id": "ada24b43",
   "metadata": {},
   "outputs": [],
   "source": [
    "# Using prettytable to display tables,\n",
    "import prettytable\n",
    "\n",
    "# Creating connection,\n",
    "%load_ext sql\n",
    "%sql sqlite:///database.db"
   ]
  },
  {
   "cell_type": "markdown",
   "id": "3dea28f0",
   "metadata": {},
   "source": [
    "### 3.1 Select Query\n",
    "\n",
    "As seen before, we have used **SELECT** to extract all rows and columns from a given table in `SELECT * FROM table_name`. This is a special case of the full syntax which is `SELECT column1, column2, column3, ..., columnN FROM table_name`. With this, we can be selective about which fields we want our rows to include. Futhermore, note that we also used **WHERE** to provide additional conditions. Therefore, the full stucture of the most basic yet powerful query in SQL is of the form:\n",
    "\n",
    "`SELECT column1, column2, column3, ..., columnN FROM table_name WHERE condition1 AND/OR condition2 AND/OR condition3 ... AND/OR conditionN`"
   ]
  },
  {
   "cell_type": "code",
   "execution_count": 4,
   "id": "43c8b69f",
   "metadata": {
    "vscode": {
     "languageId": "sql"
    }
   },
   "outputs": [
    {
     "name": "stdout",
     "output_type": "stream",
     "text": [
      " * sqlite:///database.db\n",
      "Done.\n"
     ]
    },
    {
     "data": {
      "text/html": [
       "<table>\n",
       "    <thead>\n",
       "        <tr>\n",
       "            <th>ID</th>\n",
       "            <th>FirstName</th>\n",
       "            <th>LastName</th>\n",
       "        </tr>\n",
       "    </thead>\n",
       "    <tbody>\n",
       "        <tr>\n",
       "            <td>6</td>\n",
       "            <td>Frank</td>\n",
       "            <td>Miller</td>\n",
       "        </tr>\n",
       "        <tr>\n",
       "            <td>11</td>\n",
       "            <td>Liam</td>\n",
       "            <td>Evans</td>\n",
       "        </tr>\n",
       "        <tr>\n",
       "            <td>17</td>\n",
       "            <td>James</td>\n",
       "            <td>Lewis</td>\n",
       "        </tr>\n",
       "        <tr>\n",
       "            <td>22</td>\n",
       "            <td>Mark</td>\n",
       "            <td>Thompson</td>\n",
       "        </tr>\n",
       "        <tr>\n",
       "            <td>28</td>\n",
       "            <td>Ethan</td>\n",
       "            <td>Baker</td>\n",
       "        </tr>\n",
       "    </tbody>\n",
       "</table>"
      ],
      "text/plain": [
       "[(6, 'Frank', 'Miller'),\n",
       " (11, 'Liam', 'Evans'),\n",
       " (17, 'James', 'Lewis'),\n",
       " (22, 'Mark', 'Thompson'),\n",
       " (28, 'Ethan', 'Baker')]"
      ]
     },
     "execution_count": 4,
     "metadata": {},
     "output_type": "execute_result"
    }
   ],
   "source": [
    "%%sql\n",
    "\n",
    "SELECT ID, FirstName, LastName FROM customer_data WHERE Sex=\"male\" AND Package=\"Standard\";"
   ]
  },
  {
   "cell_type": "markdown",
   "id": "cc5c27c3",
   "metadata": {},
   "source": [
    "We can give field names an alias using **AS** when returning the rows, this is useful when a field name is difficult to read or understand. "
   ]
  },
  {
   "cell_type": "code",
   "execution_count": 5,
   "id": "ab9b1616",
   "metadata": {
    "vscode": {
     "languageId": "sql"
    }
   },
   "outputs": [
    {
     "name": "stdout",
     "output_type": "stream",
     "text": [
      " * sqlite:///database.db\n",
      "Done.\n"
     ]
    },
    {
     "data": {
      "text/html": [
       "<table>\n",
       "    <thead>\n",
       "        <tr>\n",
       "            <th>ID</th>\n",
       "            <th>Name</th>\n",
       "        </tr>\n",
       "    </thead>\n",
       "    <tbody>\n",
       "        <tr>\n",
       "            <td>6</td>\n",
       "            <td>Frank</td>\n",
       "        </tr>\n",
       "        <tr>\n",
       "            <td>11</td>\n",
       "            <td>Liam</td>\n",
       "        </tr>\n",
       "        <tr>\n",
       "            <td>17</td>\n",
       "            <td>James</td>\n",
       "        </tr>\n",
       "        <tr>\n",
       "            <td>22</td>\n",
       "            <td>Mark</td>\n",
       "        </tr>\n",
       "        <tr>\n",
       "            <td>28</td>\n",
       "            <td>Ethan</td>\n",
       "        </tr>\n",
       "    </tbody>\n",
       "</table>"
      ],
      "text/plain": [
       "[(6, 'Frank'), (11, 'Liam'), (17, 'James'), (22, 'Mark'), (28, 'Ethan')]"
      ]
     },
     "execution_count": 5,
     "metadata": {},
     "output_type": "execute_result"
    }
   ],
   "source": [
    "%%sql\n",
    "\n",
    "SELECT ID, FirstName AS Name FROM customer_data WHERE Sex=\"male\" AND Package=\"Standard\";"
   ]
  },
  {
   "cell_type": "markdown",
   "id": "f823eb0b",
   "metadata": {},
   "source": [
    "Using **CONCAT**, short for concatenation, we can combine fields together, "
   ]
  },
  {
   "cell_type": "code",
   "execution_count": 6,
   "id": "b8051b0d",
   "metadata": {
    "vscode": {
     "languageId": "sql"
    }
   },
   "outputs": [
    {
     "name": "stdout",
     "output_type": "stream",
     "text": [
      " * sqlite:///database.db\n",
      "Done.\n"
     ]
    },
    {
     "data": {
      "text/html": [
       "<table>\n",
       "    <thead>\n",
       "        <tr>\n",
       "            <th>ID</th>\n",
       "            <th>Name</th>\n",
       "        </tr>\n",
       "    </thead>\n",
       "    <tbody>\n",
       "        <tr>\n",
       "            <td>6</td>\n",
       "            <td>Frank Miller</td>\n",
       "        </tr>\n",
       "        <tr>\n",
       "            <td>11</td>\n",
       "            <td>Liam Evans</td>\n",
       "        </tr>\n",
       "        <tr>\n",
       "            <td>17</td>\n",
       "            <td>James Lewis</td>\n",
       "        </tr>\n",
       "        <tr>\n",
       "            <td>22</td>\n",
       "            <td>Mark Thompson</td>\n",
       "        </tr>\n",
       "        <tr>\n",
       "            <td>28</td>\n",
       "            <td>Ethan Baker</td>\n",
       "        </tr>\n",
       "    </tbody>\n",
       "</table>"
      ],
      "text/plain": [
       "[(6, 'Frank Miller'),\n",
       " (11, 'Liam Evans'),\n",
       " (17, 'James Lewis'),\n",
       " (22, 'Mark Thompson'),\n",
       " (28, 'Ethan Baker')]"
      ]
     },
     "execution_count": 6,
     "metadata": {},
     "output_type": "execute_result"
    }
   ],
   "source": [
    "%%sql\n",
    "\n",
    "SELECT ID, CONCAT(FirstName, \" \", LastName) AS Name FROM customer_data WHERE Sex=\"male\" AND Package=\"Standard\";"
   ]
  },
  {
   "cell_type": "markdown",
   "id": "cde57c32",
   "metadata": {},
   "source": [
    "Note that, the field name of the concatation is set to default as `Concat(object1, object2, ..., objectN)` if we do not provide an alias. As shown in the example above, we can also include other data types to be concated with our field values. "
   ]
  }
 ],
 "metadata": {
  "kernelspec": {
   "display_name": "base",
   "language": "python",
   "name": "python3"
  },
  "language_info": {
   "codemirror_mode": {
    "name": "ipython",
    "version": 3
   },
   "file_extension": ".py",
   "mimetype": "text/x-python",
   "name": "python",
   "nbconvert_exporter": "python",
   "pygments_lexer": "ipython3",
   "version": "3.12.7"
  }
 },
 "nbformat": 4,
 "nbformat_minor": 5
}
